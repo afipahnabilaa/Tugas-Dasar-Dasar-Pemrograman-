{
  "nbformat": 4,
  "nbformat_minor": 0,
  "metadata": {
    "colab": {
      "provenance": [],
      "authorship_tag": "ABX9TyPPrfyOJc0lqaAayXwdggKa",
      "include_colab_link": true
    },
    "kernelspec": {
      "name": "python3",
      "display_name": "Python 3"
    },
    "language_info": {
      "name": "python"
    }
  },
  "cells": [
    {
      "cell_type": "markdown",
      "metadata": {
        "id": "view-in-github",
        "colab_type": "text"
      },
      "source": [
        "<a href=\"https://colab.research.google.com/github/afipahnabilaa/Tugas-Dasar-Dasar-Pemrograman-/blob/main/praktikum_5.ipynb\" target=\"_parent\"><img src=\"https://colab.research.google.com/assets/colab-badge.svg\" alt=\"Open In Colab\"/></a>"
      ]
    },
    {
      "cell_type": "code",
      "execution_count": 26,
      "metadata": {
        "id": "A8J3GhgIv3Ym",
        "colab": {
          "base_uri": "https://localhost:8080/"
        },
        "outputId": "be7d1bc3-dc5a-48b5-aee4-b4365bf2656d"
      },
      "outputs": [
        {
          "output_type": "stream",
          "name": "stdout",
          "text": [
            "['beat ember', 'motor', 200, 'hitam', 2]\n",
            "['beat ember', 'motor', 200, 'hitam', 2, 5000, 'metic']\n",
            "['beat ember', 'motor', 'honda', 200, 'hitam', 2, 5000, 'metic']\n"
          ]
        }
      ],
      "source": [
        "namaKendaraan = \"beat ember\"\n",
        "jenisKendaraan = \"motor\"\n",
        "ccKendaraan = 200\n",
        "warnaKendaraan = \"hitam\"\n",
        "rodaKendaraan = 2\n",
        "\n",
        "dataKendaraan = [\n",
        "  namaKendaraan, jenisKendaraan, ccKendaraan, warnaKendaraan,\n",
        "  rodaKendaraan\n",
        "]\n",
        "\n",
        "print(dataKendaraan)\n",
        "\n",
        "hargaKendaraan = 5000\n",
        "tipeKendaraan = \"metic\"\n",
        "\n",
        "dataKendaraan.append(hargaKendaraan)\n",
        "dataKendaraan.append(tipeKendaraan)\n",
        "print(dataKendaraan)\n",
        "\n",
        "merkKendaraan = \"honda\"\n",
        "dataKendaraan.insert(2,merkKendaraan)\n",
        "print(dataKendaraan)"
      ]
    },
    {
      "cell_type": "code",
      "source": [
        "pilihan = input(\"\"\"\n",
        "silahkan pilih menu yang di inginkan\n",
        "____________________________________\n",
        "1. luas persegi\n",
        "2. luas lingkaran\n",
        "3. luas segitiga\n",
        "____________________________________\n",
        "kirimkan hanya angka saja,\n",
        "jawaban = \"\"\")\n",
        "\n",
        "match pilihan:\n",
        "  case \"1\":\n",
        "    print(\"anda memilih persegi silahkan isi data dibawah\")\n",
        "    sisi = int(input(\"sisi = \"))\n",
        "    luas = sisi * sisi\n",
        "\n",
        "    print(f\"luas persegi dengan sisi {sisi} adalah {luas}\")\n",
        "    #luas persegi\n",
        "  case \"2\":\n",
        "    print(\"anda memilih lingkaran silahkan isi data dibawah\")\n",
        "    jarijari = int(input(\"jarijari = \"))\n",
        "    luas = 3.14 * jarijari**2\n",
        "\n",
        "    print(f\"luas lingkaran dengan jarijari {jarijari} adalah {luas}\")\n",
        "    #luas lingkaran\n",
        "  case \"3\":\n",
        "    print(\"anda memilih segitiga silahkan isi data dibawah\")\n",
        "    alas = int(input(\"alas = \"))\n",
        "    tinggi = int(input(\"tinggi = \"))\n",
        "    luas = (alas * tinggi) /2\n",
        "\n",
        "    print(f\"luas lingkaran dengan alas {alas} dan tinggi {tinggi} adalah {luas}\")\n",
        "    #luas segitiga\n",
        "\n",
        "  case _:\n",
        "    print(\"kenapa yaa\")"
      ],
      "metadata": {
        "colab": {
          "base_uri": "https://localhost:8080/"
        },
        "id": "uiSiQmBQ9PbI",
        "outputId": "ddaa0123-b671-4ae8-8bd1-9ec0305e4bd9"
      },
      "execution_count": 32,
      "outputs": [
        {
          "output_type": "stream",
          "name": "stdout",
          "text": [
            "\n",
            "silahkan pilih menu yang di inginkan \n",
            "____________________________________\n",
            "1. luas persegi\n",
            "2. luas lingkaran\n",
            "3. luas segitiga\n",
            "____________________________________\n",
            "kirimkan hanya angka saja,\n",
            "jawaban = 2\n",
            "anda memilih lingkaran silahkan isi data dibawah\n",
            "jarijari = 4\n",
            "luas lingkaran dengan jarijari 4 adalah 50.24\n"
          ]
        }
      ]
    }
  ]
}